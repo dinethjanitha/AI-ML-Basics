{
 "cells": [
  {
   "cell_type": "code",
   "execution_count": 9,
   "id": "86214be8",
   "metadata": {},
   "outputs": [],
   "source": [
    "import numpy as np\n",
    "from sklearn.metrics import accuracy_score"
   ]
  },
  {
   "cell_type": "code",
   "execution_count": 10,
   "id": "94728c44",
   "metadata": {},
   "outputs": [],
   "source": [
    "y_actual = ['Morning', 'Morning', 'Evening', 'Afternoon', 'Morning', 'Evening', 'Evening', 'Afternoon', 'Morning', 'Evening']\n",
    "y_pred   = ['Morning', 'Afternoon', 'Evening', 'Afternoon', 'Morning', 'Morning', 'Evening', 'Afternoon', 'Morning', 'Evening']\n"
   ]
  },
  {
   "cell_type": "code",
   "execution_count": 11,
   "id": "5e3901c7",
   "metadata": {},
   "outputs": [
    {
     "name": "stdout",
     "output_type": "stream",
     "text": [
      "Accuracy Score:  0.8\n"
     ]
    }
   ],
   "source": [
    "accuracy = accuracy_score(y_actual , y_pred)\n",
    "\n",
    "print(\"Accuracy Score: \" , accuracy)"
   ]
  },
  {
   "cell_type": "markdown",
   "id": "b901f2e8",
   "metadata": {},
   "source": [
    "# Challange"
   ]
  },
  {
   "cell_type": "markdown",
   "id": "a20e6427",
   "metadata": {},
   "source": []
  },
  {
   "cell_type": "code",
   "execution_count": 12,
   "id": "efe3926a",
   "metadata": {},
   "outputs": [],
   "source": [
    "ex_y_actual = np.array(['Morning', 'Afternoon', 'Evening', 'Morning', 'Afternoon', 'Evening', 'Evening', 'Morning'])\n",
    "ex_y_pred = np.array(['Morning', 'Afternoon', 'Morning', 'Morning', 'Evening', 'Evening', 'Evening', 'Afternoon'])"
   ]
  },
  {
   "cell_type": "code",
   "execution_count": null,
   "id": "ea3554dd",
   "metadata": {},
   "outputs": [
    {
     "name": "stdout",
     "output_type": "stream",
     "text": [
      "Accuracy : 0.625\n"
     ]
    },
    {
     "ename": "",
     "evalue": "",
     "output_type": "error",
     "traceback": [
      "\u001b[1;31mThe Kernel crashed while executing code in the current cell or a previous cell. \n",
      "\u001b[1;31mPlease review the code in the cell(s) to identify a possible cause of the failure. \n",
      "\u001b[1;31mClick <a href='https://aka.ms/vscodeJupyterKernelCrash'>here</a> for more info. \n",
      "\u001b[1;31mView Jupyter <a href='command:jupyter.viewOutput'>log</a> for further details."
     ]
    }
   ],
   "source": [
    "ex_accuracy = accuracy_score(ex_y_actual,ex_y_pred)\n",
    "\n",
    "print(\"Accuracy :\" , ex_accuracy)"
   ]
  },
  {
   "cell_type": "markdown",
   "id": "93033198",
   "metadata": {},
   "source": [
    " Challenge 1: Quick Identify (Beginner)"
   ]
  },
  {
   "cell_type": "code",
   "execution_count": 22,
   "id": "96999f5f",
   "metadata": {},
   "outputs": [],
   "source": [
    "from sklearn.metrics import precision_score , recall_score , f1_score , accuracy_score\n",
    "import numpy as np"
   ]
  },
  {
   "cell_type": "code",
   "execution_count": 24,
   "id": "e847453b",
   "metadata": {},
   "outputs": [
    {
     "name": "stdout",
     "output_type": "stream",
     "text": [
      "Accuracy:  0.75\n",
      "Precision:  0.75\n",
      "Recall:  0.75\n",
      "f1_score:  0.75\n"
     ]
    }
   ],
   "source": [
    "y_actual =    np.array(['Morning', 'Morning', 'Evening', 'Afternoon', 'Evening', 'Evening', 'Morning', 'Evening'])\n",
    "y_predicted = np.array(['Morning', 'Evening', 'Evening', 'Afternoon', 'Morning', 'Evening', 'Morning', 'Evening'])\n",
    "\n",
    "\n",
    "accuracy = accuracy_score(y_actual , y_predicted)\n",
    "\n",
    "precision = precision_score(y_actual , y_predicted , average=\"weighted\")\n",
    "\n",
    "recall = recall_score(y_actual, y_predicted , average=\"weighted\")\n",
    "\n",
    "f1 = f1_score(y_actual , y_predicted , average=\"weighted\")\n",
    "\n",
    "\n",
    "print(\"Accuracy: \" , accuracy)\n",
    "print(\"Precision: \" , precision)\n",
    "print(\"Recall: \" , recall)\n",
    "print(\"f1_score: \" , f1)"
   ]
  }
 ],
 "metadata": {
  "kernelspec": {
   "display_name": "env",
   "language": "python",
   "name": "python3"
  },
  "language_info": {
   "codemirror_mode": {
    "name": "ipython",
    "version": 3
   },
   "file_extension": ".py",
   "mimetype": "text/x-python",
   "name": "python",
   "nbconvert_exporter": "python",
   "pygments_lexer": "ipython3",
   "version": "3.11.9"
  }
 },
 "nbformat": 4,
 "nbformat_minor": 5
}
