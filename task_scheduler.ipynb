{
 "cells": [
  {
   "cell_type": "code",
   "execution_count": null,
   "id": "dc2c794a",
   "metadata": {},
   "outputs": [],
   "source": [
    "import pandas as pd\n",
    "import numpy as np\n",
    "from sklearn.metrics import mean_squared_error , r2_score\n",
    "from sklearn.model_selection import train_test_split\n",
    "from sklearn.linear_model import LinearRegression\n",
    "from sklearn.linear_model import LogisticRegression\n",
    "from sklearn.preprocessing import LabelEncoder"
   ]
  },
  {
   "cell_type": "code",
   "execution_count": 3,
   "id": "02f76677",
   "metadata": {},
   "outputs": [
    {
     "name": "stdout",
     "output_type": "stream",
     "text": [
      "       task_name task_type priority  duration_minutes day_of_week  \\\n",
      "0    Code Review    review   medium               121     Tuesday   \n",
      "1   Unit Testing   meeting     high                28      Friday   \n",
      "2  Documentation   meeting   medium                90    Saturday   \n",
      "3   Product Demo   meeting      low                96    Saturday   \n",
      "4  Daily Standup    coding      low               118      Sunday   \n",
      "\n",
      "  best_time_slot  \n",
      "0        Morning  \n",
      "1        Evening  \n",
      "2        Morning  \n",
      "3        Morning  \n",
      "4        Morning  \n"
     ]
    }
   ],
   "source": [
    "dataSet = pd.read_csv(\"./task_scheduler_detailed_100.csv\")\n",
    "print(dataSet.head())"
   ]
  },
  {
   "cell_type": "code",
   "execution_count": 6,
   "id": "579c0d55",
   "metadata": {},
   "outputs": [],
   "source": [
    "task_type_encoder = LabelEncoder()\n",
    "priority_encoder  = LabelEncoder()\n",
    "day_encoder = LabelEncoder()\n",
    "time_sloat_encoder = LabelEncoder()"
   ]
  },
  {
   "cell_type": "code",
   "execution_count": 9,
   "id": "1be7d642",
   "metadata": {},
   "outputs": [
    {
     "name": "stdout",
     "output_type": "stream",
     "text": [
      "       task_name task_type priority  duration_minutes day_of_week  \\\n",
      "0    Code Review    review   medium               121     Tuesday   \n",
      "1   Unit Testing   meeting     high                28      Friday   \n",
      "2  Documentation   meeting   medium                90    Saturday   \n",
      "3   Product Demo   meeting      low                96    Saturday   \n",
      "4  Daily Standup    coding      low               118      Sunday   \n",
      "\n",
      "  best_time_slot  task_type_encoded  priority_encoded  day_encoded  \\\n",
      "0        Morning                  3                 2            5   \n",
      "1        Evening                  1                 0            0   \n",
      "2        Morning                  1                 2            2   \n",
      "3        Morning                  1                 1            2   \n",
      "4        Morning                  0                 1            3   \n",
      "\n",
      "   time_sloat_encoded  target  \n",
      "0                   2       2  \n",
      "1                   1       1  \n",
      "2                   2       2  \n",
      "3                   2       2  \n",
      "4                   2       2  \n"
     ]
    }
   ],
   "source": [
    "dataSet[\"task_type_encoded\"] = task_type_encoder.fit_transform(dataSet[\"task_type\"])\n",
    "dataSet[\"priority_encoded\"] = priority_encoder.fit_transform(dataSet[\"priority\"])\n",
    "dataSet[\"day_encoded\"] = day_encoder.fit_transform(dataSet[\"day_of_week\"])\n",
    "dataSet[\"target\"] = time_sloat_encoder.fit_transform(dataSet[\"best_time_slot\"])\n",
    "\n",
    "print(dataSet.head())"
   ]
  },
  {
   "cell_type": "code",
   "execution_count": 11,
   "id": "53ffee57",
   "metadata": {},
   "outputs": [
    {
     "name": "stdout",
     "output_type": "stream",
     "text": [
      "    task_type_encoded  priority_encoded  duration_minutes  day_encoded\n",
      "0                   3                 2               121            5\n",
      "1                   1                 0                28            0\n",
      "2                   1                 2                90            2\n",
      "3                   1                 1                96            2\n",
      "4                   0                 1               118            3\n",
      "..                ...               ...               ...          ...\n",
      "95                  5                 1               132            5\n",
      "96                  1                 1               157            3\n",
      "97                  2                 2                43            4\n",
      "98                  4                 0               143            0\n",
      "99                  3                 0               157            4\n",
      "\n",
      "[100 rows x 4 columns]\n",
      "0     2\n",
      "1     1\n",
      "2     2\n",
      "3     2\n",
      "4     2\n",
      "     ..\n",
      "95    1\n",
      "96    2\n",
      "97    1\n",
      "98    0\n",
      "99    2\n",
      "Name: target, Length: 100, dtype: int64\n"
     ]
    }
   ],
   "source": [
    "x = dataSet[[\"task_type_encoded\" , \"priority_encoded\" , \"duration_minutes\", \"day_encoded\"]]\n",
    "y = dataSet[\"target\"]\n",
    "\n",
    "print(x)\n",
    "print(y)"
   ]
  },
  {
   "cell_type": "code",
   "execution_count": 12,
   "id": "dfe161f9",
   "metadata": {},
   "outputs": [],
   "source": [
    "x_train , x_test , y_train , y_test  = train_test_split(x,y, test_size=0.2 , random_state=42)"
   ]
  },
  {
   "cell_type": "code",
   "execution_count": null,
   "id": "48996de7",
   "metadata": {},
   "outputs": [
    {
     "name": "stdout",
     "output_type": "stream",
     "text": [
      "MSE:  0.9509180357531759\n",
      "R2:  -0.2721311515092655\n"
     ]
    }
   ],
   "source": [
    "model = LogisticRegression()\n",
    "model.fit(x_train , y_train)\n",
    "y_pred = model.predict(x_test)\n",
    "\n",
    "mse = mean_squared_error(y_test , y_pred)\n",
    "r2 = r2_score(y_test , y_pred)\n",
    "\n",
    "print(\"MSE: \",mse)\n",
    "print(\"R2: \",r2)"
   ]
  },
  {
   "cell_type": "code",
   "execution_count": null,
   "id": "8994df69",
   "metadata": {},
   "outputs": [
    {
     "ename": "ValueError",
     "evalue": "y contains previously unseen labels: [0.50135281 0.52986856 0.74476207 0.75417949 0.77295598 0.79250434\n 0.94193282 0.95166694 1.10388942 1.1497646  1.22075282 1.22618423\n 1.25745385 1.27180088 1.28415573 1.3724284  1.40937632 1.5589264\n 1.56159879 1.57427034]",
     "output_type": "error",
     "traceback": [
      "\u001b[31m---------------------------------------------------------------------------\u001b[39m",
      "\u001b[31mValueError\u001b[39m                                Traceback (most recent call last)",
      "\u001b[36mCell\u001b[39m\u001b[36m \u001b[39m\u001b[32mIn[17]\u001b[39m\u001b[32m, line 3\u001b[39m\n\u001b[32m      1\u001b[39m \u001b[38;5;28;01mfrom\u001b[39;00m\u001b[38;5;250m \u001b[39m\u001b[34;01msklearn\u001b[39;00m\u001b[34;01m.\u001b[39;00m\u001b[34;01mmetrics\u001b[39;00m\u001b[38;5;250m \u001b[39m\u001b[38;5;28;01mimport\u001b[39;00m classification_report\n\u001b[32m----> \u001b[39m\u001b[32m3\u001b[39m y_pred_label = \u001b[43mtime_sloat_encoder\u001b[49m\u001b[43m.\u001b[49m\u001b[43minverse_transform\u001b[49m\u001b[43m(\u001b[49m\u001b[43my_pred\u001b[49m\u001b[43m)\u001b[49m\n\u001b[32m      4\u001b[39m y_test_label = time_sloat_encoder.inverse_transform(y_test)\n\u001b[32m      6\u001b[39m \u001b[38;5;28mprint\u001b[39m(classification_report(y_test_label,y_pred_label))\n",
      "\u001b[36mFile \u001b[39m\u001b[32md:\\PRACTICE\\MLLearn\\MSE\\env\\Lib\\site-packages\\sklearn\\preprocessing\\_label.py:162\u001b[39m, in \u001b[36mLabelEncoder.inverse_transform\u001b[39m\u001b[34m(self, y)\u001b[39m\n\u001b[32m    156\u001b[39m diff = _setdiff1d(\n\u001b[32m    157\u001b[39m     ar1=y,\n\u001b[32m    158\u001b[39m     ar2=xp.arange(\u001b[38;5;28mself\u001b[39m.classes_.shape[\u001b[32m0\u001b[39m], device=device(y)),\n\u001b[32m    159\u001b[39m     xp=xp,\n\u001b[32m    160\u001b[39m )\n\u001b[32m    161\u001b[39m \u001b[38;5;28;01mif\u001b[39;00m diff.shape[\u001b[32m0\u001b[39m]:\n\u001b[32m--> \u001b[39m\u001b[32m162\u001b[39m     \u001b[38;5;28;01mraise\u001b[39;00m \u001b[38;5;167;01mValueError\u001b[39;00m(\u001b[33m\"\u001b[39m\u001b[33my contains previously unseen labels: \u001b[39m\u001b[38;5;132;01m%s\u001b[39;00m\u001b[33m\"\u001b[39m % \u001b[38;5;28mstr\u001b[39m(diff))\n\u001b[32m    163\u001b[39m y = xp.asarray(y)\n\u001b[32m    164\u001b[39m \u001b[38;5;28;01mreturn\u001b[39;00m xp.take(\u001b[38;5;28mself\u001b[39m.classes_, y, axis=\u001b[32m0\u001b[39m)\n",
      "\u001b[31mValueError\u001b[39m: y contains previously unseen labels: [0.50135281 0.52986856 0.74476207 0.75417949 0.77295598 0.79250434\n 0.94193282 0.95166694 1.10388942 1.1497646  1.22075282 1.22618423\n 1.25745385 1.27180088 1.28415573 1.3724284  1.40937632 1.5589264\n 1.56159879 1.57427034]"
     ]
    }
   ],
   "source": [
    "from sklearn.metrics import classification_report\n",
    "\n",
    "y_pred_label = time_sloat_encoder.inverse_transform(y_pred)\n",
    "y_test_label = time_sloat_encoder.inverse_transform(y_test_)\n",
    "\n",
    "print(classification_report(y_test_label,y_pred_label))"
   ]
  }
 ],
 "metadata": {
  "kernelspec": {
   "display_name": "env",
   "language": "python",
   "name": "python3"
  },
  "language_info": {
   "codemirror_mode": {
    "name": "ipython",
    "version": 3
   },
   "file_extension": ".py",
   "mimetype": "text/x-python",
   "name": "python",
   "nbconvert_exporter": "python",
   "pygments_lexer": "ipython3",
   "version": "3.11.9"
  }
 },
 "nbformat": 4,
 "nbformat_minor": 5
}
