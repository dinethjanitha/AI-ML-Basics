{
 "cells": [
  {
   "cell_type": "code",
   "execution_count": 54,
   "id": "dc2c794a",
   "metadata": {},
   "outputs": [],
   "source": [
    "import pandas as pd\n",
    "import numpy as np\n",
    "from sklearn.metrics import mean_squared_error , r2_score\n",
    "from sklearn.model_selection import train_test_split\n",
    "from sklearn.linear_model import LinearRegression\n",
    "from sklearn.linear_model import LogisticRegression\n",
    "from sklearn.preprocessing import LabelEncoder"
   ]
  },
  {
   "cell_type": "code",
   "execution_count": null,
   "id": "02f76677",
   "metadata": {},
   "outputs": [
    {
     "name": "stdout",
     "output_type": "stream",
     "text": [
      "       task_name task_type priority  duration_minutes day_of_week  \\\n",
      "0    Code Review    review   medium               115      Monday   \n",
      "1   Unit Testing   meeting     high                30      Friday   \n",
      "2  Documentation   meeting   medium                85    Saturday   \n",
      "3   Product Demo   meeting      low               100    Saturday   \n",
      "4  Daily Standup    coding      low               120      Sunday   \n",
      "\n",
      "  best_time_slot  \n",
      "0        Morning  \n",
      "1        Evening  \n",
      "2        Morning  \n",
      "3        Morning  \n",
      "4        Morning  \n"
     ]
    }
   ],
   "source": [
    "dataSet = pd.read_csv(\"./generated_task_scheduler.csv\")\n",
    "print(dataSet.head())"
   ]
  },
  {
   "cell_type": "code",
   "execution_count": 56,
   "id": "579c0d55",
   "metadata": {},
   "outputs": [],
   "source": [
    "task_type_encoder = LabelEncoder()\n",
    "priority_encoder  = LabelEncoder()\n",
    "day_encoder = LabelEncoder()\n",
    "time_sloat_encoder = LabelEncoder()"
   ]
  },
  {
   "cell_type": "code",
   "execution_count": 57,
   "id": "1be7d642",
   "metadata": {},
   "outputs": [
    {
     "name": "stdout",
     "output_type": "stream",
     "text": [
      "       task_name task_type priority  duration_minutes day_of_week  \\\n",
      "0    Code Review    review   medium               115      Monday   \n",
      "1   Unit Testing   meeting     high                30      Friday   \n",
      "2  Documentation   meeting   medium                85    Saturday   \n",
      "3   Product Demo   meeting      low               100    Saturday   \n",
      "4  Daily Standup    coding      low               120      Sunday   \n",
      "\n",
      "  best_time_slot  task_type_encoded  priority_encoded  day_encoded  target  \n",
      "0        Morning                  3                 2            1       2  \n",
      "1        Evening                  1                 0            0       1  \n",
      "2        Morning                  1                 2            2       2  \n",
      "3        Morning                  1                 1            2       2  \n",
      "4        Morning                  0                 1            3       2  \n"
     ]
    }
   ],
   "source": [
    "dataSet[\"task_type_encoded\"] = task_type_encoder.fit_transform(dataSet[\"task_type\"])\n",
    "dataSet[\"priority_encoded\"] = priority_encoder.fit_transform(dataSet[\"priority\"])\n",
    "dataSet[\"day_encoded\"] = day_encoder.fit_transform(dataSet[\"day_of_week\"])\n",
    "dataSet[\"target\"] = time_sloat_encoder.fit_transform(dataSet[\"best_time_slot\"])\n",
    "\n",
    "print(dataSet.head())"
   ]
  },
  {
   "cell_type": "code",
   "execution_count": 58,
   "id": "53ffee57",
   "metadata": {},
   "outputs": [
    {
     "name": "stdout",
     "output_type": "stream",
     "text": [
      "      task_type_encoded  priority_encoded  duration_minutes  day_encoded\n",
      "0                     3                 2               115            1\n",
      "1                     1                 0                30            0\n",
      "2                     1                 2                85            2\n",
      "3                     1                 1               100            2\n",
      "4                     0                 1               120            3\n",
      "...                 ...               ...               ...          ...\n",
      "1186                  3                 0               180            6\n",
      "1187                  3                 0               160            4\n",
      "1188                  3                 0               170            0\n",
      "1189                  3                 0               180            2\n",
      "1190                  3                 0               160            3\n",
      "\n",
      "[1191 rows x 4 columns]\n",
      "0       2\n",
      "1       1\n",
      "2       2\n",
      "3       2\n",
      "4       2\n",
      "       ..\n",
      "1186    0\n",
      "1187    2\n",
      "1188    1\n",
      "1189    2\n",
      "1190    0\n",
      "Name: target, Length: 1191, dtype: int64\n"
     ]
    }
   ],
   "source": [
    "x = dataSet[[\"task_type_encoded\" , \"priority_encoded\" , \"duration_minutes\", \"day_encoded\"]]\n",
    "y = dataSet[\"target\"]\n",
    "\n",
    "print(x)\n",
    "print(y)"
   ]
  },
  {
   "cell_type": "code",
   "execution_count": 59,
   "id": "dfe161f9",
   "metadata": {},
   "outputs": [],
   "source": [
    "x_train , x_test , y_train , y_test  = train_test_split(x,y, test_size=0.2 , random_state=42)"
   ]
  },
  {
   "cell_type": "code",
   "execution_count": null,
   "id": "48996de7",
   "metadata": {},
   "outputs": [
    {
     "name": "stdout",
     "output_type": "stream",
     "text": [
      "MSE:  0.8590875870109498\n",
      "R2:  -0.03283259087498869\n"
     ]
    }
   ],
   "source": [
    "model = LogisticRegression()\n",
    "model.fit(x_train , y_train)\n",
    "y_pred = model.predict(x_test)\n",
    "\n",
    "mse = mean_squared_error(y_test , y_pred)\n",
    "r2 = r2_score(y_test , y_pred)\n",
    "\n",
    "print(\"MSE: \",mse)\n",
    "print(\"R2: \",r2)"
   ]
  },
  {
   "cell_type": "code",
   "execution_count": 61,
   "id": "8994df69",
   "metadata": {},
   "outputs": [
    {
     "name": "stdout",
     "output_type": "stream",
     "text": [
      "              precision    recall  f1-score   support\n",
      "\n",
      "   Afternoon       0.51      0.36      0.42        96\n",
      "     Evening       0.25      0.03      0.05        40\n",
      "     Morning       0.47      0.76      0.58       103\n",
      "\n",
      "    accuracy                           0.48       239\n",
      "   macro avg       0.41      0.38      0.35       239\n",
      "weighted avg       0.45      0.48      0.43       239\n",
      "\n"
     ]
    }
   ],
   "source": [
    "from sklearn.metrics import classification_report\n",
    "\n",
    "y_pred_label = time_sloat_encoder.inverse_transform(y_pred)\n",
    "y_test_label = time_sloat_encoder.inverse_transform(y_test)\n",
    "\n",
    "print(classification_report(y_test_label,y_pred_label))"
   ]
  }
 ],
 "metadata": {
  "kernelspec": {
   "display_name": "env",
   "language": "python",
   "name": "python3"
  },
  "language_info": {
   "codemirror_mode": {
    "name": "ipython",
    "version": 3
   },
   "file_extension": ".py",
   "mimetype": "text/x-python",
   "name": "python",
   "nbconvert_exporter": "python",
   "pygments_lexer": "ipython3",
   "version": "3.11.9"
  }
 },
 "nbformat": 4,
 "nbformat_minor": 5
}
