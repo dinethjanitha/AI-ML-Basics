{
 "cells": [
  {
   "cell_type": "code",
   "execution_count": 12,
   "id": "3ae5d632",
   "metadata": {},
   "outputs": [],
   "source": [
    "import numpy as np\n",
    "from sklearn.metrics import mean_absolute_error , mean_squared_error"
   ]
  },
  {
   "cell_type": "code",
   "execution_count": 13,
   "id": "4dc0ba82",
   "metadata": {},
   "outputs": [],
   "source": [
    "y_actual = np.array([10, 15, 20, 25, 30])\n",
    "y_predict = np.array([12, 14, 22, 21, 28])"
   ]
  },
  {
   "cell_type": "code",
   "execution_count": 14,
   "id": "c70b9a1b",
   "metadata": {},
   "outputs": [
    {
     "name": "stdout",
     "output_type": "stream",
     "text": [
      "MSE : 5.8\n",
      "MAE : 2.2\n",
      "RMSE : 2.4083189157584592\n"
     ]
    }
   ],
   "source": [
    "mse = mean_squared_error(y_actual,y_predict)\n",
    "\n",
    "mae = mean_absolute_error(y_actual , y_predict)\n",
    "\n",
    "rmse = np.sqrt(mse)\n",
    "\n",
    "print(\"MSE :\" , round(mse , 2))\n",
    "print(\"MAE :\" , mae)\n",
    "print(\"RMSE :\" , rmse)"
   ]
  },
  {
   "cell_type": "code",
   "execution_count": 17,
   "id": "372d2dde",
   "metadata": {},
   "outputs": [
    {
     "name": "stdout",
     "output_type": "stream",
     "text": [
      "New EMSE:  10.0\n"
     ]
    }
   ],
   "source": [
    "from sklearn.metrics import r2_score\n",
    "\n",
    "y_newPredict = np.array([20, 5, 10, 35, 40])\n",
    "\n",
    "\n",
    "new_mse = mean_squared_error(y_actual,y_newPredict)\n",
    "\n",
    "new_rmse = np.sqrt(new_mse)\n",
    "\n",
    "print(\"New EMSE: \" , new_rmse)"
   ]
  }
 ],
 "metadata": {
  "kernelspec": {
   "display_name": "env",
   "language": "python",
   "name": "python3"
  },
  "language_info": {
   "codemirror_mode": {
    "name": "ipython",
    "version": 3
   },
   "file_extension": ".py",
   "mimetype": "text/x-python",
   "name": "python",
   "nbconvert_exporter": "python",
   "pygments_lexer": "ipython3",
   "version": "3.11.9"
  }
 },
 "nbformat": 4,
 "nbformat_minor": 5
}
