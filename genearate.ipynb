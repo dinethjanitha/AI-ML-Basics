{
 "cells": [
  {
   "cell_type": "code",
   "execution_count": null,
   "id": "93e7846c",
   "metadata": {},
   "outputs": [],
   "source": [
    "import csv\n",
    "import random\n",
    "\n",
    "# Define the template data based on your CSV structure\n",
    "task_names = [\n",
    "    \"Code Review\", \"Unit Testing\", \"Documentation\", \"Product Demo\",\n",
    "    \"Daily Standup\", \"Team Meeting\", \"Sprint Planning\", \"Client Call\",\n",
    "    \"Database Backup\", \"UI Testing\", \"Design Mockup\", \"Bug Fixing\"\n",
    "]\n",
    "task_types = [\"review\", \"meeting\", \"coding\", \"planning\", \"writing\", \"testing\"]\n",
    "priorities = [\"low\", \"medium\", \"high\"]\n",
    "day_of_week = [\"Monday\", \"Tuesday\", \"Wednesday\", \"Thursday\", \"Friday\", \"Saturday\", \"Sunday\"]\n",
    "time_slots = [\"Morning\", \"Afternoon\", \"Evening\"]\n",
    "\n",
    "# Generate random rows\n",
    "rows = []\n",
    "for i in range(4000):\n",
    "    task_name = random.choice(task_names)\n",
    "    task_type = random.choice(task_types)\n",
    "    priority = random.choice(priorities)\n",
    "    duration = random.randint(20, 180)  # Random duration between 20 and 180 minutes\n",
    "    day = random.choice(day_of_week)\n",
    "    time_slot = random.choice(time_slots)\n",
    "    rows.append([task_name, task_type, priority, duration, day, time_slot])\n",
    "\n",
    "# Write to a CSV file\n",
    "filename = \"generated_task_scheduler.csv\"\n",
    "with open(filename, \"w\", newline=\"\") as file:\n",
    "    writer = csv.writer(file)\n",
    "    writer.writerow([\"task_name\", \"task_type\", \"priority\", \"duration_minutes\", \"day_of_week\", \"best_time_slot\"])\n",
    "    writer.writerows(rows)\n",
    "\n",
    "print(f\"Generated dataset saved as {filename}\")"
   ]
  }
 ],
 "metadata": {
  "language_info": {
   "name": "python"
  }
 },
 "nbformat": 4,
 "nbformat_minor": 5
}
